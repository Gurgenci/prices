{
 "cells": [
  {
   "cell_type": "code",
   "execution_count": null,
   "id": "af09be63",
   "metadata": {},
   "outputs": [
    {
     "name": "stdout",
     "output_type": "stream",
     "text": [
      "[0.390625   0.80357143]\n",
      "[ 6000 18000]\n",
      "[15360. 22400.]\n"
     ]
    }
   ],
   "source": [
    "#21 Aug 2025\n",
    "import numpy as np\n",
    "argentine_school_fees=12*np.array([500, 1500]) # US Dollars\n",
    "brisbane_school_fees=np.array([24000,35000])*0.64 # US Dollars\n",
    "print(argentine_school_fees/brisbane_school_fees)\n",
    "print(argentine_school_fees)\n",
    "print(brisbane_school_fees)"
   ]
  },
  {
   "cell_type": "code",
   "execution_count": null,
   "id": "d7edd2dd",
   "metadata": {},
   "outputs": [],
   "source": []
  }
 ],
 "metadata": {
  "kernelspec": {
   "display_name": ".venv",
   "language": "python",
   "name": "python3"
  },
  "language_info": {
   "codemirror_mode": {
    "name": "ipython",
    "version": 3
   },
   "file_extension": ".py",
   "mimetype": "text/x-python",
   "name": "python",
   "nbconvert_exporter": "python",
   "pygments_lexer": "ipython3",
   "version": "3.11.1"
  }
 },
 "nbformat": 4,
 "nbformat_minor": 5
}
