{
 "cells": [
  {
   "cell_type": "markdown",
   "metadata": {},
   "source": [
    "# Comparing Australian and Turkish Prices #"
   ]
  },
  {
   "cell_type": "code",
   "execution_count": 1,
   "metadata": {},
   "outputs": [],
   "source": [
    "#%pip install numpy matplotlib\n",
    "#%pip install pandas"
   ]
  },
  {
   "cell_type": "code",
   "execution_count": 2,
   "metadata": {},
   "outputs": [],
   "source": [
    "from IPython.display import display, Markdown\n",
    "def md(s):\n",
    "    display(Markdown(s))\n",
    "\n",
    "import numpy as np"
   ]
  },
  {
   "cell_type": "markdown",
   "metadata": {},
   "source": [
    "# Price comparison between Australia and Turkey #"
   ]
  },
  {
   "cell_type": "code",
   "execution_count": 3,
   "metadata": {},
   "outputs": [],
   "source": [
    "AUnames=[\"Banana\", \"Onion\", \"Beef Mince\", \"Milk\", \"Egg\",      \"Rice\", \"Petrol\"]\n",
    "TRnames=[\"Muz\",    \"Sogan\", \"Kiyma\",        \"Sut\", \"Yumurta\", \"Pirinc\", \"Benzin\"]\n",
    "Units=[\"kg\",          \"kg\",   \"kg\",         \"lt\", \"ea\",           \"kg\", \"lt\"]"
   ]
  },
  {
   "cell_type": "markdown",
   "metadata": {},
   "source": [
    "Descriptions:\n",
    "* Ithal muz\n",
    "* Regular beef mince\n",
    "* Baldo pirinc\n",
    "* Pinar sut\n",
    "* Yumurta 15lik paket\n",
    "* Norco full cream milk 2L\n",
    "* Coles free range eggs 12-pack\n",
    "* Coles long grain rice"
   ]
  },
  {
   "cell_type": "code",
   "execution_count": 4,
   "metadata": {},
   "outputs": [],
   "source": [
    "import pandas as pd\n",
    "\n",
    "df = pd.read_csv('data/prices.csv')\n",
    "# Copy the first row into a string array \"Names\"\n",
    "Names = df.columns.values\n",
    "AUnames = Names[2:9]\n",
    "TRnames = Names[9:16]\n",
    "# Starting from row #3, copy the first column into a string array \"Dates\"\n",
    "Dates = df['Date'].values[1:]\n",
    "# Read the columns 2 to 8 into a numpy array \"AUs\"\n",
    "AUs = df[AUnames].values[1:]\n",
    "# Read the columns 9 to 15 into a numpy array \"TRs\"\n",
    "TRs = df[TRnames].values[1:]\n",
    "# Read the valus 2 to 8 in Row #2 into a numpy array \"AU_Multipliers\"\n",
    "AU_Multipliers = df[AUnames].values[0]\n",
    "# Read the values 9 to 15 in Row #2 into a numpy array \"TR_Multipliers\"\n",
    "TR_Multipliers = df[TRnames].values[0]\n",
    "# Starting from Row #2, read the second column into a numpy array \"Xrate\"\n",
    "Xrate = df['Exchange Rate'].values[1:]"
   ]
  },
  {
   "cell_type": "code",
   "execution_count": 5,
   "metadata": {},
   "outputs": [],
   "source": [
    "import datetime\n",
    "ndate=len(Dates)-1\n",
    "# date_str = Dates[ndate]\n",
    "# date_obj = datetime.datetime.strptime(date_str, \"%d/%m/%Y\")\n",
    "# formatted_date = date_obj.strftime(\"%d-%m-%y\")\n",
    "\n",
    "\n",
    "def showprices(Language, n, tabulate=False):\n",
    "    date_str=Dates[n]\n",
    "    date_obj = datetime.datetime.strptime(date_str, \"%d/%m/%Y\")\n",
    "    formatted_date = date_obj.strftime(\"%d-%m-%y\")\n",
    "    if Language==\"English\":\n",
    "        names=AUnames\n",
    "    else:\n",
    "        names=TRnames\n",
    "\n",
    "    Names=\"|\"+formatted_date+\"|\"\n",
    "    Bars=\"|---|\"\n",
    "    for i in range(len(names)):\n",
    "        Names+=names[i]+\"|\"\n",
    "        Bars+=\"---|\"\n",
    "    s=Names+\"AT Index|\\n\"+Bars+\"---|\"\n",
    "        \n",
    " \n",
    "    s+=\"\\n|AU\"\n",
    "    for i in range(len(AUnames)):\n",
    "        s+=\"|\"+\"{:.2f}\".format(AUs[n][i]*Xrate[n]/AU_Multipliers[i])\n",
    "    # s+=\"|\\n\"\n",
    "    s+=\"|.|\\n|TR\"\n",
    "    for i in range(len(TRnames)):\n",
    "        s+=\"|\"+\"{:.2f}\".format(TRs[n][i]/TR_Multipliers[i])\n",
    "    s+=\"|.|\\n\"\n",
    "    s+=\"|%.2f\"%Xrate[n]\n",
    "    divided_list = (AUs[n]*Xrate[n]/AU_Multipliers)/ (TRs[n]/TR_Multipliers)\n",
    "    HGindex=sum(divided_list)/len(divided_list)\n",
    "    for i in range(len(AUnames)):\n",
    "        s+=\"|\"+\"{:.2f}\".format(divided_list[i])\n",
    "    s+=\"|\"+\"{:.2f}\".format(HGindex)\n",
    "    if tabulate:\n",
    "        md(s)\n",
    "    return HGindex\n"
   ]
  },
  {
   "cell_type": "code",
   "execution_count": 6,
   "metadata": {},
   "outputs": [],
   "source": [
    "nrow=len(Dates)-1"
   ]
  },
  {
   "cell_type": "code",
   "execution_count": 7,
   "metadata": {},
   "outputs": [
    {
     "data": {
      "text/markdown": [
       "|16-08-24|Banana|Onion|Beef Mince|Milk|Egg|Rice|Petrol|AT Index|\n",
       "|---|---|---|---|---|---|---|---|---|\n",
       "|AU|134.10|80.46|245.85|46.94|9.69|40.23|38.44|.|\n",
       "|TR|69.95|11.95|419.95|45.00|3.50|64.95|44.54|.|\n",
       "|22.35|1.92|6.73|0.59|1.04|2.77|0.62|0.86|2.08"
      ],
      "text/plain": [
       "<IPython.core.display.Markdown object>"
      ]
     },
     "metadata": {},
     "output_type": "display_data"
    },
    {
     "data": {
      "text/plain": [
       "np.float64(2.0754566591611954)"
      ]
     },
     "execution_count": 7,
     "metadata": {},
     "output_type": "execute_result"
    }
   ],
   "source": [
    "showprices(\"English\",nrow, tabulate=True)\n"
   ]
  },
  {
   "cell_type": "code",
   "execution_count": 8,
   "metadata": {},
   "outputs": [
    {
     "data": {
      "text/markdown": [
       "|16-08-24|Muz|Sogan|Kiyma|Sut|Yumurta|Pirinc|Benzin|AT Index|\n",
       "|---|---|---|---|---|---|---|---|---|\n",
       "|AU|134.10|80.46|245.85|46.94|9.69|40.23|38.44|.|\n",
       "|TR|69.95|11.95|419.95|45.00|3.50|64.95|44.54|.|\n",
       "|22.35|1.92|6.73|0.59|1.04|2.77|0.62|0.86|2.08"
      ],
      "text/plain": [
       "<IPython.core.display.Markdown object>"
      ]
     },
     "metadata": {},
     "output_type": "display_data"
    },
    {
     "data": {
      "text/plain": [
       "np.float64(2.0754566591611954)"
      ]
     },
     "execution_count": 8,
     "metadata": {},
     "output_type": "execute_result"
    }
   ],
   "source": [
    "showprices(\"Turkish\",nrow, tabulate=True)"
   ]
  },
  {
   "cell_type": "code",
   "execution_count": 9,
   "metadata": {},
   "outputs": [
    {
     "data": {
      "image/png": "[encoded data removed]",
      "text/plain": [
       "<Figure size 800x600 with 1 Axes>"
      ]
     },
     "metadata": {},
     "output_type": "display_data"
    }
   ],
   "source": [
    "ATindex=np.zeros(len(Dates))\n",
    "for n in range(len(Dates)):\n",
    "    ATindex[n]=showprices(\"English\",n, tabulate=False)\n",
    "#\n",
    "import matplotlib.pyplot as plt\n",
    "import pandas as pd\n",
    "\n",
    "# Convert dates to pandas DatetimeIndex\n",
    "dates = pd.to_datetime(Dates, dayfirst=True)\n",
    "\n",
    "# Plotting\n",
    "plt.figure(figsize=(8, 6))\n",
    "plt.bar(dates, ATindex, width=0.8)  # Use plt.bar for bar plot\n",
    "plt.xticks(dates, labels=Dates, rotation=45)\n",
    "plt.xlabel('Date')\n",
    "plt.ylabel('AT Index')\n",
    "plt.title('AT Index Bar Chart')\n",
    "plt.grid(axis='y')\n",
    "plt.show()"
   ]
  },
  {
   "cell_type": "code",
   "execution_count": 10,
   "metadata": {},
   "outputs": [
    {
     "name": "stdout",
     "output_type": "stream",
     "text": [
      "[1.66787261 1.48224665 2.15325944 2.07545666]\n"
     ]
    }
   ],
   "source": [
    "print(ATindex)"
   ]
  },
  {
   "cell_type": "code",
   "execution_count": 11,
   "metadata": {},
   "outputs": [
    {
     "name": "stdout",
     "output_type": "stream",
     "text": [
      "['Date' 'Exchange Rate' 'Banana' 'Onion' 'Beef Mince' 'Milk' 'Egg' 'Rice'\n",
      " 'Petrol' 'Muz' 'Sogan' 'Kiyma' 'Sut' 'Yumurta' 'Pirinc' 'Benzin']\n",
      "['Banana' 'Onion' 'Beef Mince' 'Milk' 'Egg' 'Rice' 'Petrol']\n",
      "['Muz' 'Sogan' 'Kiyma' 'Sut' 'Yumurta' 'Pirinc' 'Benzin']\n",
      "['5/7/2024' '21/7/2024' '4/8/2024' '16/8/2024']\n",
      "[[ 4.    2.   11.    4.2   5.6   1.8   1.78]\n",
      " [ 4.    2.5  11.    4.2   5.2   1.8   1.73]\n",
      " [ 4.3   3.6  11.    4.2   5.2   1.8   1.96]\n",
      " [ 6.    3.6  11.    4.2   5.2   1.8   1.72]]\n",
      "[[ 45.    18.   420.    45.    37.5   62.5   43.5 ]\n",
      " [ 70.    17.   378.    45.    52.5   65.    45.  ]\n",
      " [ 69.95   9.75 399.95  45.    52.5   64.95  45.2 ]\n",
      " [ 69.95  11.95 419.95  45.    52.5   64.95  44.54]]\n",
      "[ 1.  1.  1.  2. 12.  1.  1.]\n",
      "[ 1.  1.  1.  1. 15.  1.  1.]\n",
      "[22.06 22.08 21.54 22.35]\n"
     ]
    }
   ],
   "source": [
    "print(Names)\n",
    "print(AUnames)\n",
    "print(TRnames)\n",
    "print(Dates)\n",
    "print(AUs)\n",
    "print(TRs)\n",
    "print(AU_Multipliers)\n",
    "print(TR_Multipliers)\n",
    "print(Xrate)"
   ]
  }
 ],
 "metadata": {
  "kernelspec": {
   "display_name": ".venv",
   "language": "python",
   "name": "python3"
  },
  "language_info": {
   "codemirror_mode": {
    "name": "ipython",
    "version": 3
   },
   "file_extension": ".py",
   "mimetype": "text/x-python",
   "name": "python",
   "nbconvert_exporter": "python",
   "pygments_lexer": "ipython3",
   "version": "3.11.1"
  }
 },
 "nbformat": 4,
 "nbformat_minor": 2
}
