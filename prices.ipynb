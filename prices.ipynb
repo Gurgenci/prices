{
 "cells": [
  {
   "cell_type": "markdown",
   "metadata": {},
   "source": [
    "# Comparing Australian and Turkish Prices #"
   ]
  },
  {
   "cell_type": "code",
   "execution_count": 1,
   "metadata": {},
   "outputs": [],
   "source": [
    "#%pip install numpy matplotlib\n",
    "#%pip install pandas"
   ]
  },
  {
   "cell_type": "code",
   "execution_count": 2,
   "metadata": {},
   "outputs": [],
   "source": [
    "from IPython.display import display, Markdown\n",
    "def md(s):\n",
    "    display(Markdown(s))\n",
    "\n",
    "import numpy as np"
   ]
  },
  {
   "cell_type": "markdown",
   "metadata": {},
   "source": [
    "# Price comparison between Australia and Turkey #"
   ]
  },
  {
   "cell_type": "code",
   "execution_count": 3,
   "metadata": {},
   "outputs": [],
   "source": [
    "AUnames=[\"Banana\", \"Onion\", \"Beef Mince\", \"Milk\", \"Egg\",      \"Rice\", \"Petrol\"]\n",
    "TRnames=[\"Muz\",    \"Sogan\", \"Kiyma\",        \"Sut\", \"Yumurta\", \"Pirinc\", \"Benzin\"]\n",
    "Units=[\"kg\",          \"kg\",   \"kg\",         \"lt\", \"ea\",           \"kg\", \"lt\"]"
   ]
  },
  {
   "cell_type": "markdown",
   "metadata": {},
   "source": [
    "Descriptions:\n",
    "* Ithal muz\n",
    "* Regular beef mince\n",
    "* Baldo pirinc\n",
    "* Pinar sut\n",
    "* Yumurta 15lik paket\n",
    "* Norco full cream milk 2L\n",
    "* Coles free range eggs 12-pack\n",
    "* Coles long grain rice"
   ]
  },
  {
   "cell_type": "code",
   "execution_count": 4,
   "metadata": {},
   "outputs": [],
   "source": [
    "import pandas as pd\n",
    "\n",
    "df = pd.read_csv('data/prices.csv')\n",
    "# Copy the first row into a string array \"Names\"\n",
    "Names = df.columns.values\n",
    "AUnames = Names[2:9]\n",
    "TRnames = Names[9:16]\n",
    "# Starting from row #3, copy the first column into a string array \"Dates\"\n",
    "Dates = df['Date'].values[1:]\n",
    "# Read the columns 2 to 8 into a numpy array \"AUs\"\n",
    "AUs = df[AUnames].values[1:]\n",
    "# Read the columns 9 to 15 into a numpy array \"TRs\"\n",
    "TRs = df[TRnames].values[1:]\n",
    "# Read the valus 2 to 8 in Row #2 into a numpy array \"AU_Multipliers\"\n",
    "AU_Multipliers = df[AUnames].values[0]\n",
    "# Read the values 9 to 15 in Row #2 into a numpy array \"TR_Multipliers\"\n",
    "TR_Multipliers = df[TRnames].values[0]\n",
    "# Starting from Row #2, read the second column into a numpy array \"Xrate\"\n",
    "Xrate = df['Exchange Rate'].values[1:]"
   ]
  },
  {
   "cell_type": "code",
   "execution_count": 5,
   "metadata": {},
   "outputs": [],
   "source": [
    "import datetime\n",
    "ndate=len(Dates)-1\n",
    "# date_str = Dates[ndate]\n",
    "# date_obj = datetime.datetime.strptime(date_str, \"%d/%m/%Y\")\n",
    "# formatted_date = date_obj.strftime(\"%d-%m-%y\")\n",
    "\n",
    "\n",
    "def showprices(Language, n, tabulate=False):\n",
    "    date_str=Dates[n]\n",
    "    date_obj = datetime.datetime.strptime(date_str, \"%d/%m/%Y\")\n",
    "    formatted_date = date_obj.strftime(\"%d-%m-%y\")\n",
    "    if Language==\"English\":\n",
    "        names=AUnames\n",
    "    else:\n",
    "        names=TRnames\n",
    "\n",
    "    Names=\"|\"+formatted_date+\"|\"\n",
    "    Bars=\"|---|\"\n",
    "    for i in range(len(names)):\n",
    "        Names+=names[i]+\"|\"\n",
    "        Bars+=\"---|\"\n",
    "    s=Names+\"AT Index|\\n\"+Bars+\"---|\"\n",
    "        \n",
    " \n",
    "    s+=\"\\n|AU\"\n",
    "    for i in range(len(AUnames)):\n",
    "        s+=\"|\"+\"{:.2f}\".format(AUs[n][i]*Xrate[n]/AU_Multipliers[i])\n",
    "    # s+=\"|\\n\"\n",
    "    s+=\"|.|\\n|TR\"\n",
    "    for i in range(len(TRnames)):\n",
    "        s+=\"|\"+\"{:.2f}\".format(TRs[n][i]/TR_Multipliers[i])\n",
    "    s+=\"|.|\\n\"\n",
    "    s+=\"|%.2f\"%Xrate[n]\n",
    "    divided_list = (AUs[n]*Xrate[n]/AU_Multipliers)/ (TRs[n]/TR_Multipliers)\n",
    "    HGindex=sum(divided_list)/len(divided_list)\n",
    "    for i in range(len(AUnames)):\n",
    "        s+=\"|\"+\"{:.2f}\".format(divided_list[i])\n",
    "    s+=\"|\"+\"{:.2f}\".format(HGindex)\n",
    "    if tabulate:\n",
    "        md(s)\n",
    "    return HGindex\n"
   ]
  },
  {
   "cell_type": "code",
   "execution_count": 6,
   "metadata": {},
   "outputs": [],
   "source": [
    "nrow=len(Dates)-1"
   ]
  },
  {
   "cell_type": "code",
   "execution_count": 7,
   "metadata": {},
   "outputs": [
    {
     "data": {
      "text/markdown": [
       "|11-05-25|Banana|Onion|Beef Mince|Milk|Egg|Rice|Petrol|AT Index|\n",
       "|---|---|---|---|---|---|---|---|---|\n",
       "|AU|111.83|62.12|273.35|55.91|12.84|44.73|39.49|.|\n",
       "|TR|89.95|11.95|589.95|49.95|10.33|74.95|45.27|.|\n",
       "|24.85|1.24|5.20|0.46|1.12|1.24|0.60|0.87|1.53"
      ],
      "text/plain": [
       "<IPython.core.display.Markdown object>"
      ]
     },
     "metadata": {},
     "output_type": "display_data"
    },
    {
     "data": {
      "text/plain": [
       "np.float64(1.5337993683324058)"
      ]
     },
     "execution_count": 7,
     "metadata": {},
     "output_type": "execute_result"
    }
   ],
   "source": [
    "showprices(\"English\",nrow, tabulate=True)\n"
   ]
  },
  {
   "cell_type": "code",
   "execution_count": 8,
   "metadata": {},
   "outputs": [
    {
     "data": {
      "text/markdown": [
       "|11-05-25|Muz|Sogan|Kiyma|Sut|Yumurta|Pirinc|Benzin|AT Index|\n",
       "|---|---|---|---|---|---|---|---|---|\n",
       "|AU|111.83|62.12|273.35|55.91|12.84|44.73|39.49|.|\n",
       "|TR|89.95|11.95|589.95|49.95|10.33|74.95|45.27|.|\n",
       "|24.85|1.24|5.20|0.46|1.12|1.24|0.60|0.87|1.53"
      ],
      "text/plain": [
       "<IPython.core.display.Markdown object>"
      ]
     },
     "metadata": {},
     "output_type": "display_data"
    },
    {
     "data": {
      "text/plain": [
       "np.float64(1.5337993683324058)"
      ]
     },
     "execution_count": 8,
     "metadata": {},
     "output_type": "execute_result"
    }
   ],
   "source": [
    "showprices(\"Turkish\",nrow, tabulate=True)"
   ]
  },
  {
   "cell_type": "code",
   "execution_count": null,
   "metadata": {},
   "outputs": [
    {
     "data": {
      "image/png": "[encoded data removed]",
      "text/plain": [
       "<Figure size 800x600 with 1 Axes>"
      ]
     },
     "metadata": {},
     "output_type": "display_data"
    }
   ],
   "source": [
    "import matplotlib.pyplot as plt\n",
    "import pandas as pd\n",
    "import numpy as np\n",
    "\n",
    "# Assuming Dates and showprices are defined earlier\n",
    "ATindex = np.zeros(len(Dates))\n",
    "TAindex = np.zeros(len(Dates))\n",
    "for n in range(len(Dates)):\n",
    "    ATindex[n] = showprices(\"English\", n, tabulate=False)\n",
    "    TAindex[n] = 1 / ATindex[n]\n",
    "\n",
    "# Convert dates to pandas datetime\n",
    "dates = pd.to_datetime(Dates, dayfirst=True)\n",
    "y = TAindex\n",
    "\n",
    "# Fit a linear polynomial to the data\n",
    "z = np.polyfit(range(len(dates)), y, 1)\n",
    "p = np.poly1d(z)\n",
    "\n",
    "# Select ticks at start, middle, and end\n",
    "tick_indices = [0, len(dates) // 2, len(dates) - 1]\n",
    "tick_values = dates[tick_indices]\n",
    "tick_labels = [Dates[i] for i in tick_indices]\n",
    "\n",
    "# Plot\n",
    "plt.figure(figsize=(8, 6))\n",
    "plt.plot(dates, p(range(len(dates))), color='r', linestyle='--', linewidth=1)\n",
    "plt.scatter(dates, y, color='b', marker='o')\n",
    "\n",
    "# Set only three xticks\n",
    "plt.xticks(tick_values, labels=tick_labels, rotation=45)\n",
    "\n",
    "plt.xlabel('Date')\n",
    "plt.ylabel('TR prices / AU prices')\n",
    "plt.title('Comparing Istanbul Migros and Brisbane Cole online prices for selected items')\n",
    "plt.grid(axis='y')\n",
    "plt.ylim(0.0, 1.0)\n",
    "plt.tight_layout()  # Helps with label spacing\n",
    "plt.show()"
   ]
  },
  {
   "cell_type": "code",
   "execution_count": 10,
   "metadata": {},
   "outputs": [
    {
     "name": "stdout",
     "output_type": "stream",
     "text": [
      "['Date' 'Exchange Rate' 'Banana' 'Onion' 'Beef Mince' 'Milk' 'Egg' 'Rice'\n",
      " 'Petrol' 'Muz' 'Sogan' 'Kiyma' 'Sut' 'Yumurta' 'Pirinc' 'Benzin']\n",
      "['Banana' 'Onion' 'Beef Mince' 'Milk' 'Egg' 'Rice' 'Petrol']\n",
      "['Muz' 'Sogan' 'Kiyma' 'Sut' 'Yumurta' 'Pirinc' 'Benzin']\n",
      "['5/7/2024' '21/7/2024' '4/8/2024' '16/8/2024' '1/9/2024' '14/9/2024'\n",
      " '28/9/2024' '13/10/2024' '10/11/2024' '24/11/2024' '7/12/2024'\n",
      " '20/12/2024' '4/1/2025' '17/1/2025' '3/2/2025' '16/2/2025' '2/3/2025'\n",
      " '17/3/2025' '29/3/2025' '12/4/2025' '26/4/2025' '11/5/2025']\n",
      "[[ 4.     2.    11.     4.2    5.6    1.8    1.78 ]\n",
      " [ 4.     2.5   11.     4.2    5.2    1.8    1.73 ]\n",
      " [ 4.3    3.6   11.     4.2    5.2    1.8    1.96 ]\n",
      " [ 6.     3.6   11.     4.2    5.2    1.8    1.72 ]\n",
      " [ 6.     2.5   11.     4.2    5.7    1.8    1.92 ]\n",
      " [ 6.     2.5   11.     4.2    5.7    1.8    1.66 ]\n",
      " [ 4.     3.6   11.     4.2    5.7    1.8    1.59 ]\n",
      " [ 4.     3.2    9.     4.2    5.7    1.8    1.8  ]\n",
      " [ 4.5    2.5   11.     3.95   5.7    1.8    1.82 ]\n",
      " [ 4.     2.5   11.     3.95   5.7    1.8    1.67 ]\n",
      " [ 4.     2.5   11.     4.2    5.7    1.8    1.64 ]\n",
      " [ 5.33   3.6   11.     4.2    5.7    1.8    1.94 ]\n",
      " [ 5.33   2.9   11.     4.2    5.7    1.8    1.95 ]\n",
      " [ 4.     3.6   11.     4.2    5.7    1.8    1.816]\n",
      " [ 2.5    3.6    9.     4.2    5.7    1.8    1.659]\n",
      " [ 4.5    3.9    9.     4.2    5.7    1.8    1.699]\n",
      " [ 4.5    2.5   11.     4.2    5.7    1.8    1.979]\n",
      " [ 4.5    2.5   11.     4.2    5.7    1.8    1.908]\n",
      " [ 4.5    2.5   11.     4.2    5.7    1.8    1.795]\n",
      " [ 4.5    3.    11.     4.2    6.2    1.8    1.699]\n",
      " [ 4.5    3.6   10.     4.2    6.2    1.8    1.579]\n",
      " [ 4.5    2.5   11.     4.5    6.2    1.8    1.589]]\n",
      "[[ 45.    18.   420.    45.    37.5   62.5   43.5 ]\n",
      " [ 70.    17.   378.    45.    52.5   65.    45.  ]\n",
      " [ 69.95   9.75 399.95  45.    52.5   64.95  45.2 ]\n",
      " [ 69.95  11.95 419.95  45.    52.5   64.95  44.54]\n",
      " [ 69.95  14.9  399.95  45.    93.95  67.5   43.24]\n",
      " [ 69.95   9.9  399.95  45.    72.5   67.5   41.55]\n",
      " [ 54.95  12.5  389.95  45.    69.95  67.5   42.77]\n",
      " [ 54.95  13.95 419.95  29.95  72.5   67.5   44.66]\n",
      " [ 99.95  15.95 409.95  45.    59.95  67.5   42.88]\n",
      " [ 44.95   9.95 409.95  45.    67.5   67.5   42.33]\n",
      " [ 54.95  23.95 419.95  45.   104.95  67.5   42.12]\n",
      " [ 44.95  23.95 449.95  45.   109.95  67.5   43.12]\n",
      " [ 59.95  21.95 470.   124.95 124.    67.5   44.04]\n",
      " [ 64.95  23.95 449.95  45.   104.95  67.5   45.32]\n",
      " [ 75.95  14.95 499.95  49.95 109.95  67.5   46.31]\n",
      " [ 75.95  16.95 469.95  49.95 124.95  71.95  46.44]\n",
      " [ 87.95  18.95 579.95  49.95 134.95  71.95  46.43]\n",
      " [ 89.95  29.9  489.9   49.95 134.95  71.95  45.23]\n",
      " [ 89.95  24.95 589.95  49.95 134.95  71.95  46.72]\n",
      " [ 95.95  16.95 589.95  49.95 154.95  74.95  44.18]\n",
      " [ 99.95  15.95 539.95  49.95 154.95  64.95  45.16]\n",
      " [ 89.95  11.95 589.95  49.95 154.95  74.95  45.27]]\n",
      "[ 1.  1.  1.  2. 12.  1.  1.]\n",
      "[ 1.  1.  1.  1. 15.  1.  1.]\n",
      "[22.06 22.08 21.54 22.35 23.05 22.68 23.59 23.15 22.63 22.47 22.2  21.93\n",
      " 21.99 22.06 22.09 23.02 22.65 23.28 23.88 23.92 24.58 24.85]\n"
     ]
    }
   ],
   "source": [
    "print(Names)\n",
    "print(AUnames)\n",
    "print(TRnames)\n",
    "print(Dates)\n",
    "print(AUs)\n",
    "print(TRs)\n",
    "print(AU_Multipliers)\n",
    "print(TR_Multipliers)\n",
    "print(Xrate)"
   ]
  }
 ],
 "metadata": {
  "kernelspec": {
   "display_name": ".venv",
   "language": "python",
   "name": "python3"
  },
  "language_info": {
   "codemirror_mode": {
    "name": "ipython",
    "version": 3
   },
   "file_extension": ".py",
   "mimetype": "text/x-python",
   "name": "python",
   "nbconvert_exporter": "python",
   "pygments_lexer": "ipython3",
   "version": "3.11.1"
  }
 },
 "nbformat": 4,
 "nbformat_minor": 2
}
